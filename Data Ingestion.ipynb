{
 "cells": [
  {
   "cell_type": "code",
   "execution_count": 2,
   "id": "6e1cda8a-0220-4dd0-84f9-fe76c2d449e5",
   "metadata": {},
   "outputs": [
    {
     "data": {
      "text/html": [
       "<div>\n",
       "<style scoped>\n",
       "    .dataframe tbody tr th:only-of-type {\n",
       "        vertical-align: middle;\n",
       "    }\n",
       "\n",
       "    .dataframe tbody tr th {\n",
       "        vertical-align: top;\n",
       "    }\n",
       "\n",
       "    .dataframe thead th {\n",
       "        text-align: right;\n",
       "    }\n",
       "</style>\n",
       "<table border=\"1\" class=\"dataframe\">\n",
       "  <thead>\n",
       "    <tr style=\"text-align: right;\">\n",
       "      <th></th>\n",
       "      <th>Date</th>\n",
       "      <th>State</th>\n",
       "      <th>Country</th>\n",
       "      <th>Cumulative_cases</th>\n",
       "      <th>Cumulative_death</th>\n",
       "      <th>Daily_cases</th>\n",
       "      <th>Daily_death</th>\n",
       "      <th>Latitude</th>\n",
       "      <th>Longitude</th>\n",
       "      <th>Temperature</th>\n",
       "      <th>...</th>\n",
       "      <th>Available Beds/1000</th>\n",
       "      <th>Confirmed Cases/1000</th>\n",
       "      <th>Lung Patients (F)</th>\n",
       "      <th>Lung Patients (M)</th>\n",
       "      <th>Life Expectancy (M)</th>\n",
       "      <th>Life Expectancy (F)</th>\n",
       "      <th>Total_tests_conducted</th>\n",
       "      <th>Out_Travels (mill.)</th>\n",
       "      <th>In_travels(mill.)</th>\n",
       "      <th>Domestic_Travels (mill.)</th>\n",
       "    </tr>\n",
       "  </thead>\n",
       "  <tbody>\n",
       "    <tr>\n",
       "      <th>0</th>\n",
       "      <td>22-01-2020</td>\n",
       "      <td>NaN</td>\n",
       "      <td>Albania</td>\n",
       "      <td>0</td>\n",
       "      <td>0</td>\n",
       "      <td>0</td>\n",
       "      <td>0</td>\n",
       "      <td>41.1533</td>\n",
       "      <td>20.1683</td>\n",
       "      <td>5.72</td>\n",
       "      <td>...</td>\n",
       "      <td>0.725</td>\n",
       "      <td>0.0</td>\n",
       "      <td>7.02</td>\n",
       "      <td>17.04</td>\n",
       "      <td>76</td>\n",
       "      <td>81.6</td>\n",
       "      <td>1526</td>\n",
       "      <td>5415</td>\n",
       "      <td>5927</td>\n",
       "      <td>Not Reported</td>\n",
       "    </tr>\n",
       "    <tr>\n",
       "      <th>1</th>\n",
       "      <td>23-01-2020</td>\n",
       "      <td>NaN</td>\n",
       "      <td>Albania</td>\n",
       "      <td>0</td>\n",
       "      <td>0</td>\n",
       "      <td>0</td>\n",
       "      <td>0</td>\n",
       "      <td>41.1533</td>\n",
       "      <td>20.1683</td>\n",
       "      <td>6.72</td>\n",
       "      <td>...</td>\n",
       "      <td>0.725</td>\n",
       "      <td>0.0</td>\n",
       "      <td>7.02</td>\n",
       "      <td>17.04</td>\n",
       "      <td>76</td>\n",
       "      <td>81.6</td>\n",
       "      <td>1526</td>\n",
       "      <td>5415</td>\n",
       "      <td>5927</td>\n",
       "      <td>Not Reported</td>\n",
       "    </tr>\n",
       "    <tr>\n",
       "      <th>2</th>\n",
       "      <td>24-01-2020</td>\n",
       "      <td>NaN</td>\n",
       "      <td>Albania</td>\n",
       "      <td>0</td>\n",
       "      <td>0</td>\n",
       "      <td>0</td>\n",
       "      <td>0</td>\n",
       "      <td>41.1533</td>\n",
       "      <td>20.1683</td>\n",
       "      <td>8.17</td>\n",
       "      <td>...</td>\n",
       "      <td>0.725</td>\n",
       "      <td>0.0</td>\n",
       "      <td>7.02</td>\n",
       "      <td>17.04</td>\n",
       "      <td>76</td>\n",
       "      <td>81.6</td>\n",
       "      <td>1526</td>\n",
       "      <td>5415</td>\n",
       "      <td>5927</td>\n",
       "      <td>Not Reported</td>\n",
       "    </tr>\n",
       "    <tr>\n",
       "      <th>3</th>\n",
       "      <td>25-01-2020</td>\n",
       "      <td>NaN</td>\n",
       "      <td>Albania</td>\n",
       "      <td>0</td>\n",
       "      <td>0</td>\n",
       "      <td>0</td>\n",
       "      <td>0</td>\n",
       "      <td>41.1533</td>\n",
       "      <td>20.1683</td>\n",
       "      <td>10.83</td>\n",
       "      <td>...</td>\n",
       "      <td>0.725</td>\n",
       "      <td>0.0</td>\n",
       "      <td>7.02</td>\n",
       "      <td>17.04</td>\n",
       "      <td>76</td>\n",
       "      <td>81.6</td>\n",
       "      <td>1526</td>\n",
       "      <td>5415</td>\n",
       "      <td>5927</td>\n",
       "      <td>Not Reported</td>\n",
       "    </tr>\n",
       "    <tr>\n",
       "      <th>4</th>\n",
       "      <td>26-01-2020</td>\n",
       "      <td>NaN</td>\n",
       "      <td>Albania</td>\n",
       "      <td>0</td>\n",
       "      <td>0</td>\n",
       "      <td>0</td>\n",
       "      <td>0</td>\n",
       "      <td>41.1533</td>\n",
       "      <td>20.1683</td>\n",
       "      <td>11.39</td>\n",
       "      <td>...</td>\n",
       "      <td>0.725</td>\n",
       "      <td>0.0</td>\n",
       "      <td>7.02</td>\n",
       "      <td>17.04</td>\n",
       "      <td>76</td>\n",
       "      <td>81.6</td>\n",
       "      <td>1526</td>\n",
       "      <td>5415</td>\n",
       "      <td>5927</td>\n",
       "      <td>Not Reported</td>\n",
       "    </tr>\n",
       "  </tbody>\n",
       "</table>\n",
       "<p>5 rows × 31 columns</p>\n",
       "</div>"
      ],
      "text/plain": [
       "         Date  State  Country  Cumulative_cases  Cumulative_death  \\\n",
       "0  22-01-2020    NaN  Albania                 0                 0   \n",
       "1  23-01-2020    NaN  Albania                 0                 0   \n",
       "2  24-01-2020    NaN  Albania                 0                 0   \n",
       "3  25-01-2020    NaN  Albania                 0                 0   \n",
       "4  26-01-2020    NaN  Albania                 0                 0   \n",
       "\n",
       "   Daily_cases  Daily_death  Latitude  Longitude  Temperature  ...  \\\n",
       "0            0            0   41.1533    20.1683         5.72  ...   \n",
       "1            0            0   41.1533    20.1683         6.72  ...   \n",
       "2            0            0   41.1533    20.1683         8.17  ...   \n",
       "3            0            0   41.1533    20.1683        10.83  ...   \n",
       "4            0            0   41.1533    20.1683        11.39  ...   \n",
       "\n",
       "   Available Beds/1000  Confirmed Cases/1000  Lung Patients (F)  \\\n",
       "0                0.725                   0.0               7.02   \n",
       "1                0.725                   0.0               7.02   \n",
       "2                0.725                   0.0               7.02   \n",
       "3                0.725                   0.0               7.02   \n",
       "4                0.725                   0.0               7.02   \n",
       "\n",
       "   Lung Patients (M)  Life Expectancy (M)  Life Expectancy (F)  \\\n",
       "0              17.04                   76                 81.6   \n",
       "1              17.04                   76                 81.6   \n",
       "2              17.04                   76                 81.6   \n",
       "3              17.04                   76                 81.6   \n",
       "4              17.04                   76                 81.6   \n",
       "\n",
       "   Total_tests_conducted  Out_Travels (mill.)  In_travels(mill.)  \\\n",
       "0                   1526                 5415               5927   \n",
       "1                   1526                 5415               5927   \n",
       "2                   1526                 5415               5927   \n",
       "3                   1526                 5415               5927   \n",
       "4                   1526                 5415               5927   \n",
       "\n",
       "   Domestic_Travels (mill.)  \n",
       "0              Not Reported  \n",
       "1              Not Reported  \n",
       "2              Not Reported  \n",
       "3              Not Reported  \n",
       "4              Not Reported  \n",
       "\n",
       "[5 rows x 31 columns]"
      ]
     },
     "execution_count": 2,
     "metadata": {},
     "output_type": "execute_result"
    }
   ],
   "source": [
    "import pandas as pd\n",
    "\n",
    "csv_file_path = './archive/Albania_COVID19.csv'\n",
    "df = pd.read_csv(csv_file_path)\n",
    "\n",
    "# Display the DataFrame\n",
    "df.head()\n"
   ]
  },
  {
   "cell_type": "code",
   "execution_count": 3,
   "id": "35226b33-adcd-4c4d-8c39-8a6d06ee7326",
   "metadata": {},
   "outputs": [
    {
     "name": "stdout",
     "output_type": "stream",
     "text": [
      "Requirement already satisfied: pyodbc in c:\\users\\91760\\appdata\\local\\programs\\python\\python311\\lib\\site-packages (5.0.1)\n"
     ]
    },
    {
     "name": "stderr",
     "output_type": "stream",
     "text": [
      "\n",
      "[notice] A new release of pip is available: 23.1.2 -> 23.3.2\n",
      "[notice] To update, run: python.exe -m pip install --upgrade pip\n"
     ]
    },
    {
     "name": "stdout",
     "output_type": "stream",
     "text": [
      "Requirement already satisfied: sqlalchemy in c:\\users\\91760\\appdata\\local\\programs\\python\\python311\\lib\\site-packages (1.4.36)\n",
      "Collecting sqlalchemy\n",
      "  Using cached SQLAlchemy-2.0.25-cp311-cp311-win_amd64.whl (2.1 MB)\n",
      "Requirement already satisfied: typing-extensions>=4.6.0 in c:\\users\\91760\\appdata\\local\\programs\\python\\python311\\lib\\site-packages (from sqlalchemy) (4.9.0)\n",
      "Requirement already satisfied: greenlet!=0.4.17 in c:\\users\\91760\\appdata\\local\\programs\\python\\python311\\lib\\site-packages (from sqlalchemy) (3.0.3)\n",
      "Installing collected packages: sqlalchemy\n",
      "  Attempting uninstall: sqlalchemy\n",
      "    Found existing installation: SQLAlchemy 1.4.36\n",
      "    Uninstalling SQLAlchemy-1.4.36:\n",
      "      Successfully uninstalled SQLAlchemy-1.4.36\n",
      "Successfully installed sqlalchemy-2.0.25\n"
     ]
    },
    {
     "name": "stderr",
     "output_type": "stream",
     "text": [
      "\n",
      "[notice] A new release of pip is available: 23.1.2 -> 23.3.2\n",
      "[notice] To update, run: python.exe -m pip install --upgrade pip\n"
     ]
    }
   ],
   "source": [
    "#Install pyodbc module\n",
    "#upgrade sqlalchemy module\n",
    "!pip install pyodbc\n",
    "!pip install --upgrade sqlalchemy\n"
   ]
  },
  {
   "cell_type": "code",
   "execution_count": 8,
   "id": "467377d5-274d-4091-9556-394847b66a83",
   "metadata": {},
   "outputs": [
    {
     "name": "stdout",
     "output_type": "stream",
     "text": [
      "Requirement already satisfied: openpyxl in c:\\users\\91760\\appdata\\local\\programs\\python\\python311\\lib\\site-packages (3.1.2)\n",
      "Requirement already satisfied: et-xmlfile in c:\\users\\91760\\appdata\\local\\programs\\python\\python311\\lib\\site-packages (from openpyxl) (1.1.0)\n",
      "DataFrame has been saved to: ./Task1.xlsx\n"
     ]
    },
    {
     "name": "stderr",
     "output_type": "stream",
     "text": [
      "\n",
      "[notice] A new release of pip is available: 23.1.2 -> 23.3.2\n",
      "[notice] To update, run: python.exe -m pip install --upgrade pip\n"
     ]
    }
   ],
   "source": [
    "#Writing pandas dataframe in to excel file\n",
    "!pip install openpyxl\n",
    "\n",
    "excel_file_path = './Task1.xlsx'\n",
    "\n",
    "# Write the DataFrame to an Excel file\n",
    "df.to_excel(excel_file_path, index=False)\n",
    "\n",
    "\n",
    "# Display a message\n",
    "print(f'DataFrame has been saved to: {excel_file_path}')\n"
   ]
  },
  {
   "cell_type": "code",
   "execution_count": 5,
   "id": "8eb1786a-adf9-4924-b826-f2dd76e6b7ef",
   "metadata": {},
   "outputs": [
    {
     "name": "stdout",
     "output_type": "stream",
     "text": [
      "Requirement already satisfied: pyarrow in c:\\users\\91760\\appdata\\local\\programs\\python\\python311\\lib\\site-packages (14.0.2)\n",
      "Requirement already satisfied: numpy>=1.16.6 in c:\\users\\91760\\appdata\\local\\programs\\python\\python311\\lib\\site-packages (from pyarrow) (1.26.3)\n"
     ]
    },
    {
     "name": "stderr",
     "output_type": "stream",
     "text": [
      "\n",
      "[notice] A new release of pip is available: 23.1.2 -> 23.3.2\n",
      "[notice] To update, run: python.exe -m pip install --upgrade pip\n"
     ]
    }
   ],
   "source": [
    "!pip install pyarrow\n"
   ]
  },
  {
   "cell_type": "code",
   "execution_count": 7,
   "id": "d96915b1-1c45-4154-aff5-5875c4892d44",
   "metadata": {},
   "outputs": [],
   "source": [
    "#Writing pandas dataframe in to parquet file\n",
    "\n",
    "import pyarrow as pa\n",
    "import pyarrow.parquet as pq\n",
    "\n",
    "parquet_file_path = 'ParquetTask.parquet'\n",
    "\n",
    "# Write the DataFrame to a Parquet file\n",
    "table = pa.Table.from_pandas(df)\n",
    "pq.write_table(table, parquet_file_path)\n"
   ]
  },
  {
   "cell_type": "code",
   "execution_count": null,
   "id": "74e7fd94-fa10-42e2-a4b2-cdbe13fab3b3",
   "metadata": {},
   "outputs": [],
   "source": []
  }
 ],
 "metadata": {
  "kernelspec": {
   "display_name": "Python 3 (ipykernel)",
   "language": "python",
   "name": "python3"
  },
  "language_info": {
   "codemirror_mode": {
    "name": "ipython",
    "version": 3
   },
   "file_extension": ".py",
   "mimetype": "text/x-python",
   "name": "python",
   "nbconvert_exporter": "python",
   "pygments_lexer": "ipython3",
   "version": "3.11.4"
  }
 },
 "nbformat": 4,
 "nbformat_minor": 5
}
