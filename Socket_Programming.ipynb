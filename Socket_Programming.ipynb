{
 "cells": [
  {
   "cell_type": "code",
   "execution_count": 1,
   "id": "43d55972-be71-4386-9c92-976cc3ec681d",
   "metadata": {},
   "outputs": [
    {
     "data": {
      "application/vnd.jupyter.widget-view+json": {
       "model_id": "29771a56523941579ffea995e78b0246",
       "version_major": 2,
       "version_minor": 0
      },
      "text/plain": [
       "FigureWidget({\n",
       "    'data': [{'mode': 'lines+markers',\n",
       "              'name': 'Random Numbers',\n",
       "              'type': 'scatter',\n",
       "              'uid': 'd490eddf-fcb2-42d6-8e72-eff1114de57e',\n",
       "              'y': [2, 4, 5, 7, 8, 9, 0, 78, 7, 8]}],\n",
       "    'layout': {'template': '...',\n",
       "               'title': {'text': 'Random Numbers Generated'},\n",
       "               'xaxis': {'title': {'text': 'Time'}},\n",
       "               'yaxis': {'title': {'text': 'Random Number'}}}\n",
       "})"
      ]
     },
     "metadata": {},
     "output_type": "display_data"
    },
    {
     "data": {
      "application/vnd.jupyter.widget-view+json": {
       "model_id": "eb1e07c3200f4b1181af443572ae3880",
       "version_major": 2,
       "version_minor": 0
      },
      "text/plain": [
       "FigureWidget({\n",
       "    'data': [{'marker': {'color': [rgba(255, 99, 132, 0.5), rgba(255, 159, 64,\n",
       "                                   0.5), rgba(255, 205, 86, 0.5), rgba(75, 192,\n",
       "                                   192, 0.5), rgba(54, 162, 235, 0.5), rgba(153,\n",
       "                                   102, 255, 0.5), rgba(201, 203, 207, 0.5),\n",
       "                                   rgba(200, 20, 20, 0.5), rgba(50, 150, 50, 0.5)],\n",
       "                         'line': {'color': [rgb(255, 99, 132), rgb(255, 159, 64),\n",
       "                                            rgb(255, 205, 86), rgb(75, 192, 192),\n",
       "                                            rgb(54, 162, 235), rgb(153, 102, 255),\n",
       "                                            rgb(201, 203, 207), rgb(200, 20, 20),\n",
       "                                            rgb(50, 150, 50)],\n",
       "                                  'width': 1}},\n",
       "              'name': 'Random Numbers',\n",
       "              'type': 'bar',\n",
       "              'uid': '87b3bc36-28c0-4f89-97c3-70aceb87201b',\n",
       "              'y': [2, 4, 5, 7, 8, 9, 0, 78, 7, 8]}],\n",
       "    'layout': {'template': '...',\n",
       "               'title': {'text': 'Random Numbers Generated'},\n",
       "               'xaxis': {'title': {'text': 'Time'}},\n",
       "               'yaxis': {'title': {'text': 'Random Number'}}}\n",
       "})"
      ]
     },
     "metadata": {},
     "output_type": "display_data"
    },
    {
     "data": {
      "application/vnd.jupyter.widget-view+json": {
       "model_id": "c1ed77194c5644b6ba9ca3c068c32da2",
       "version_major": 2,
       "version_minor": 0
      },
      "text/plain": [
       "FigureWidget({\n",
       "    'data': [{'labels': [, , , , , , , , , ],\n",
       "              'name': 'Random Numbers',\n",
       "              'type': 'pie',\n",
       "              'uid': 'e0d63ac3-ff3d-45ca-9ec9-d5161ab2942f',\n",
       "              'values': [2, 4, 5, 7, 8, 9, 0, 78, 7, 8]}],\n",
       "    'layout': {'template': '...'}\n",
       "})"
      ]
     },
     "metadata": {},
     "output_type": "display_data"
    }
   ],
   "source": [
    "import socket\n",
    "import random\n",
    "import time\n",
    "import plotly.graph_objects as go\n",
    "from IPython.display import display\n",
    "import threading\n",
    "\n",
    "HEADER = 64\n",
    "PORT = 5060\n",
    "FORMAT = \"utf-8\"\n",
    "DISCONNECT_MESSAGE = \"!DISCONNECT\"\n",
    "SERVER = socket.gethostbyname(socket.gethostname())\n",
    "ADDR = (SERVER, PORT)\n",
    "\n",
    "client = socket.socket(socket.AF_INET, socket.SOCK_STREAM)\n",
    "client.connect(ADDR)\n",
    "\n",
    "def receive():\n",
    "    while True:\n",
    "        try:\n",
    "            msg_length = client.recv(HEADER).decode(FORMAT)\n",
    "            if msg_length:\n",
    "                msg_length = int(msg_length)\n",
    "                msg = client.recv(msg_length).decode(FORMAT)\n",
    "                return msg\n",
    "        except:\n",
    "            break\n",
    "\n",
    "bar_colors = ['rgba(255, 99, 132, 0.5)', 'rgba(255, 159, 64, 0.5)', 'rgba(255, 205, 86, 0.5)',\n",
    "              'rgba(75, 192, 192, 0.5)', 'rgba(54, 162, 235, 0.5)', 'rgba(153, 102, 255, 0.5)',\n",
    "              'rgba(201, 203, 207, 0.5)', 'rgba(200, 20, 20, 0.5)', 'rgba(50, 150, 50, 0.5)']\n",
    "\n",
    "border_colors = ['rgb(255, 99, 132)', 'rgb(255, 159, 64)', 'rgb(255, 205, 86)',\n",
    "                 'rgb(75, 192, 192)', 'rgb(54, 162, 235)', 'rgb(153, 102, 255)',\n",
    "                 'rgb(201, 203, 207)', 'rgb(200, 20, 20)', 'rgb(50, 150, 50)']\n",
    "border_width = 1\n",
    "\n",
    "fig_line = go.FigureWidget()\n",
    "fig_line.add_scatter(y=[2,4,5,7,8,9,0,78,7,8], mode='lines+markers', name='Random Numbers')\n",
    "fig_line.update_layout(title='Random Numbers Generated', xaxis_title='Time', yaxis_title='Random Number')\n",
    "\n",
    "fig_bar = go.FigureWidget()\n",
    "fig_bar.add_bar(y=[2,4,5,7,8,9,0,78,7,8], name='Random Numbers')\n",
    "fig_bar.update_layout(title='Random Numbers Generated', xaxis_title='Time', yaxis_title='Random Number')\n",
    "fig_bar.update_traces(marker=dict(color=bar_colors, line=dict(color=border_colors, width=border_width)))\n",
    "\n",
    "fig_pie = go.FigureWidget()\n",
    "fig_pie.add_pie(values=[2,4,5,7,8,9,0,78,7,8], labels=['']*10, name='Random Numbers')\n",
    "\n",
    "display(fig_line)\n",
    "display(fig_bar)\n",
    "display(fig_pie)\n",
    "     \n",
    "def update_graphs():\n",
    "    while True:\n",
    "        data = receive()\n",
    "        if data:\n",
    "            numbers = list(map(int, data.split()))\n",
    "            fig_line.data[0].y = numbers\n",
    "            fig_line.update_layout()  \n",
    "            fig_bar.data[0].y = numbers\n",
    "            fig_bar.update_layout()  \n",
    "            fig_pie.data[0].values = numbers\n",
    "            time.sleep(2)  \n",
    "\n",
    "update_thread = threading.Thread(target=update_graphs)\n",
    "update_thread.start()\n"
   ]
  }
 ],
 "metadata": {
  "kernelspec": {
   "display_name": "Python 3 (ipykernel)",
   "language": "python",
   "name": "python3"
  },
  "language_info": {
   "codemirror_mode": {
    "name": "ipython",
    "version": 3
   },
   "file_extension": ".py",
   "mimetype": "text/x-python",
   "name": "python",
   "nbconvert_exporter": "python",
   "pygments_lexer": "ipython3",
   "version": "3.11.4"
  }
 },
 "nbformat": 4,
 "nbformat_minor": 5
}
